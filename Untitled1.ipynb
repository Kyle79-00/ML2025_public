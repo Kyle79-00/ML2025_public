{
  "nbformat": 4,
  "nbformat_minor": 0,
  "metadata": {
    "colab": {
      "provenance": [],
      "authorship_tag": "ABX9TyMTQrlYNlzfN+ICLNzHCxIj",
      "include_colab_link": true
    },
    "kernelspec": {
      "name": "python3",
      "display_name": "Python 3"
    },
    "language_info": {
      "name": "python"
    }
  },
  "cells": [
    {
      "cell_type": "markdown",
      "metadata": {
        "id": "view-in-github",
        "colab_type": "text"
      },
      "source": [
        "<a href=\"https://colab.research.google.com/github/Kyle79-00/ML2025_public/blob/main/Untitled1.ipynb\" target=\"_parent\"><img src=\"https://colab.research.google.com/assets/colab-badge.svg\" alt=\"Open In Colab\"/></a>"
      ]
    },
    {
      "cell_type": "code",
      "execution_count": null,
      "metadata": {
        "id": "9mpKPCxctHhG"
      },
      "outputs": [],
      "source": [
        "import numpy as np\n",
        "import matplotlib.pyplot as plt\n",
        "from sklearn.datasets import make_moons\n",
        "from sklearn.model_selection import train_test_split\n",
        "from sklearn.preprocessing import StandardScaler\n",
        "from tensorflow.keras.models import Sequential\n",
        "from tensorflow.keras.layers import Dense, Dropout\n",
        "from tensorflow.keras.optimizers import Adam\n",
        "import tensorflow as tf\n",
        "\n",
        "# Seed per riproducibilità\n",
        "np.random.seed(42)\n",
        "tf.random.set_seed(42)\n",
        "\n",
        "# 1. Generazione dati\n",
        "X, y = make_moons(n_samples=1000, noise=0.2, random_state=42)\n",
        "\n",
        "# Normalizzazione\n",
        "scaler = StandardScaler()\n",
        "X = scaler.fit_transform(X)\n",
        "\n",
        "# Split in train/test\n",
        "X_train, X_test, y_train, y_test = train_test_split(X, y, test_size=0.3, random_state=42)\n",
        "\n",
        "# 2. Definizione dei modelli\n",
        "\n",
        "# Modello A - senza hidden layers\n",
        "model_A = Sequential()\n",
        "model_A.add(Dense(1, input_dim=2, activation='sigmoid'))\n",
        "model_A.compile(optimizer=Adam(0.01), loss='binary_crossentropy', metrics=['accuracy'])\n",
        "\n",
        "# Modello B - con hidden layers\n",
        "model_B = Sequential()\n",
        "model_B.add(Dense(32, input_dim=2, activation='relu'))\n",
        "model_B.add(Dense(16, activation='relu'))\n",
        "model_B.add(Dense(1, activation='sigmoid'))\n",
        "model_B.compile(optimizer=Adam(0.01), loss='binary_crossentropy', metrics=['accuracy'])\n",
        "\n",
        "# Modello C - con hidden layers + dropout\n",
        "model_C = Sequential()\n",
        "model_C.add(Dense(32, input_dim=2, activation='relu'))\n",
        "model_C.add(Dropout(0.3))\n",
        "model_C.add(Dense(16, activation='relu'))\n",
        "model_C.add(Dropout(0.2))\n",
        "model_C.add(Dense(1, activation='sigmoid'))\n",
        "model_C.compile(optimizer=Adam(0.01), loss='binary_crossentropy', metrics=['accuracy'])\n",
        "\n",
        "# 3. Addestramento\n",
        "print(\"Training modello A (nessun hidden layer)...\")\n",
        "model_A.fit(X_train, y_train, epochs=50, verbose=0)\n",
        "\n",
        "print(\"Training modello B (hidden layers)...\")\n",
        "model_B.fit(X_train, y_train, epochs=50, verbose=0)\n",
        "\n",
        "print(\"Training modello C (hidden + dropout)...\")\n",
        "model_C.fit(X_train, y_train, epochs=50, verbose=0)\n",
        "\n",
        "# 4. Funzione di visualizzazione\n",
        "def plot_decision_boundary(model, X, y, title):\n",
        "    h = 0.01\n",
        "    x_min, x_max = X[:, 0].min() - 1, X[:, 0].max() + 1\n",
        "    y_min, y_max = X[:, 1].min() - 1, X[:, 1].max() + 1\n",
        "    xx, yy = np.meshgrid(np.arange(x_min, x_max, h),\n",
        "                         np.arange(y_min, y_max, h))\n",
        "    Z = model.predict(np.c_[xx.ravel(), yy.ravel()])\n",
        "    Z = Z.reshape(xx.shape)\n",
        "\n",
        "    plt.figure(figsize=(6, 4))\n",
        "    plt.contourf(xx, yy, Z, cmap=plt.cm.Spectral, alpha=0.8)\n",
        "    plt.scatter(X[:, 0], X[:, 1], c=y, cmap=plt.cm.binary)\n",
        "    plt.title(title)\n",
        "    plt.xlabel(\"Feature 1\")\n",
        "    plt.ylabel(\"Feature 2\")\n",
        "    plt.show()\n",
        "\n",
        "# 5. Visualizzazione risultati\n",
        "plot_decision_boundary(model_A, X, y, \"Modello A: Nessun hidden layer\")\n",
        "plot_decision_boundary(model_B, X, y, \"Modello B: Hidden layers\")\n",
        "plot_decision_boundary(model_C, X, y, \"Modello C: Hidden + Dropout\")\n"
      ]
    }
  ]
}